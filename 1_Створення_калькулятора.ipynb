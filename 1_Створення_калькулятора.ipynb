{
  "cells": [
    {
      "cell_type": "markdown",
      "metadata": {
        "id": "rlre0OlSmOCt"
      },
      "source": [
        "# Створення калькулятора"
      ]
    },
    {
      "cell_type": "markdown",
      "metadata": {
        "id": "Vf-hl0LhzbI4"
      },
      "source": [
        "1. Запустіть на виконання наступну комірку з кодом. Введіть потрібні дані й перегляньте результат"
      ]
    },
    {
      "cell_type": "code",
      "execution_count": 3,
      "metadata": {
        "colab": {
          "base_uri": "https://localhost:8080/"
        },
        "id": "dhrvfmbmmbjk",
        "outputId": "50d33257-3b7d-4e69-9077-34feed34da6c"
      },
      "outputs": [
        {
          "name": "stdout",
          "output_type": "stream",
          "text": [
            "Сума чисел:  9\n"
          ]
        }
      ],
      "source": [
        "first_number = int(input('Введіть перше число: ')) ;\n",
        "second_number = int(input('Введіть друге число: ')) ;\n",
        "print(\"Сума чисел: \", first_number + second_number)"
      ]
    },
    {
      "cell_type": "markdown",
      "metadata": {
        "id": "E2jK9sw7zsCy"
      },
      "source": [
        "2. В наступній пустій комірці спробуйте переписати код так, щоб виводились **сума, різниця, добуток та частка** введених чисел:"
      ]
    },
    {
      "cell_type": "code",
      "execution_count": 1,
      "metadata": {
        "id": "CmzAvUWJ4RF3"
      },
      "outputs": [
        {
          "name": "stdout",
          "output_type": "stream",
          "text": [
            "Сума чисел:  102\n",
            "Різниця чисел:  98\n",
            "Частка чисел:  50.0\n",
            "Добуток чисел:  200\n"
          ]
        }
      ],
      "source": [
        "first_number = int(input('Введіть перше число: ')) ;\n",
        "second_number = int(input('Введіть друге число: ')) ;\n",
        "print(\"Сума чисел: \", first_number + second_number)\n",
        "print(\"Різниця чисел: \", first_number - second_number)\n",
        "print(\"Частка чисел: \", first_number / second_number)\n",
        "print(\"Добуток чисел: \", first_number * second_number)"
      ]
    },
    {
      "cell_type": "markdown",
      "metadata": {
        "id": "oxuEKHxW4WJU"
      },
      "source": [
        "3. А тепер давайте порахуємо відстань між Києвом та Полтавою у милях (1 миля = 1,60934 км), знаючи що в кілометрах це 305,3 км. Підказка: для заокруглення до першого знаку після коми використовуйте конструкцію \n",
        "``` python\n",
        "round(x, 1)\n",
        "```\n",
        "Результат обчислень збережіть у змінній ```distMiles```"
      ]
    },
    {
      "cell_type": "code",
      "execution_count": null,
      "metadata": {
        "colab": {
          "base_uri": "https://localhost:8080/"
        },
        "id": "ocxz1jXhz7qH",
        "outputId": "70197061-3eaa-4f23-d30c-31671418157d"
      },
      "outputs": [
        {
          "name": "stdout",
          "output_type": "stream",
          "text": [
            "Requirement already satisfied: wolframalpha in /usr/local/lib/python3.7/dist-packages (5.0.0)\n",
            "Requirement already satisfied: jaraco.context in /usr/local/lib/python3.7/dist-packages (from wolframalpha) (4.0.0)\n",
            "Requirement already satisfied: more-itertools in /usr/local/lib/python3.7/dist-packages (from wolframalpha) (8.8.0)\n",
            "Requirement already satisfied: xmltodict in /usr/local/lib/python3.7/dist-packages (from wolframalpha) (0.12.0)\n",
            "Щось не те - має вийти 189.7 миль, а у Вас вийшло 0!\n"
          ]
        }
      ],
      "source": [
        "round(x, 1)"
      ]
    },
    {
      "cell_type": "markdown",
      "metadata": {
        "id": "H8d21gii0QsQ"
      },
      "source": [
        "Нагадую, що цю вправу ви також можете виконати на [Microsoft Learn](https://docs.microsoft.com/ru-ru/learn/modules/intro-to-python/7-exercise-input)."
      ]
    },
    {
      "cell_type": "markdown",
      "metadata": {
        "id": "__msdISS82eX"
      },
      "source": [
        "### Результат виконання роботи:"
      ]
    },
    {
      "cell_type": "code",
      "execution_count": 2,
      "metadata": {
        "colab": {
          "base_uri": "https://localhost:8080/"
        },
        "id": "e4KBs6IF4j_B",
        "outputId": "9cc35d94-ecd9-4991-9685-eaf3ac969c94"
      },
      "outputs": [
        {
          "name": "stdout",
          "output_type": "stream",
          "text": [
            "190.6\n"
          ]
        }
      ],
      "source": [
        "OneMile = 1.6\n",
        "KilometresToPoltava = 305\n",
        "DistanceMiles = KilometresToPoltava / OneMile\n",
        "print (round(DistanceMiles, 1))"
      ]
    }
  ],
  "metadata": {
    "colab": {
      "collapsed_sections": [],
      "name": "1. Створення калькулятора",
      "provenance": [],
      "toc_visible": true
    },
    "kernelspec": {
      "display_name": "Python 3.8.9 64-bit",
      "language": "python",
      "name": "python3"
    },
    "language_info": {
      "codemirror_mode": {
        "name": "ipython",
        "version": 3
      },
      "file_extension": ".py",
      "mimetype": "text/x-python",
      "name": "python",
      "nbconvert_exporter": "python",
      "pygments_lexer": "ipython3",
      "version": "3.8.9"
    },
    "vscode": {
      "interpreter": {
        "hash": "31f2aee4e71d21fbe5cf8b01ff0e069b9275f58929596ceb00d14d90e3e16cd6"
      }
    }
  },
  "nbformat": 4,
  "nbformat_minor": 0
}
